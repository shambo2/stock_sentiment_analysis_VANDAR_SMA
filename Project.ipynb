{
 "cells": [
  {
   "cell_type": "code",
   "execution_count": null,
   "metadata": {},
   "outputs": [],
   "source": [
    "import pandas as pd\n",
    "import numpy as np\n",
    "import yfinance as yf\n",
    "\n",
    "import pandas_datareader as pdr\n",
    "import matplotlib.pyplot as plt\n",
    "\n",
    "data_amd = yf.download('AMD', '2024-08-28', end = '2024-09-27') \n",
    "data_amd.head()"
   ]
  },
  {
   "cell_type": "code",
   "execution_count": null,
   "metadata": {},
   "outputs": [],
   "source": [
    "data_amd['2_SMA'] = data_amd['Close'].rolling(window=2).mean()\n",
    "data_amd['5_SMA'] = data_amd['Close'].rolling(window=5).mean()\n",
    "\n",
    "data_amd = data_amd[data_amd['5_SMA'].notna()]\n",
    "\n",
    "# SMA trade calls\n",
    "Trade_Buy=[]\n",
    "Trade_Sell=[]\n",
    "for i in range(len(data_amd)-1):\n",
    "    if ((data_amd['2_SMA'].values[i] < data_amd['5_SMA'].values[i]) & (data_amd['2_SMA'].values[i+1] > data_amd['5_SMA'].values[i+1])):\n",
    "        print(\"Trade Call for {row} is Buy.\".format(row=data_amd.index[i].date()))\n",
    "        Trade_Buy.append(i)\n",
    "    elif ((data_amd['2_SMA'].values[i] > data_amd['5_SMA'].values[i]) & (data_amd['2_SMA'].values[i+1] < data_amd['5_SMA'].values[i+1])):\n",
    "        print(\"Trade Call for {row} is Sell.\".format(row=data_amd.index[i].date()))\n",
    "        Trade_Sell.append(i)"
   ]
  },
  {
   "cell_type": "code",
   "execution_count": null,
   "metadata": {},
   "outputs": [],
   "source": [
    "plt.figure(figsize=(20, 10),dpi=80)\n",
    "plt.plot(data_amd.index, data_amd['Close'])\n",
    "plt.plot(data_amd.index, data_amd['2_SMA'],'-^', markevery=Trade_Buy, ms=15, color='green')\n",
    "plt.plot(data_amd.index, data_amd['5_SMA'],'-v', markevery=Trade_Sell, ms=15, color='red')\n",
    "plt.xlabel('Date',fontsize=14)\n",
    "plt.ylabel('Price in Dollars', fontsize = 14)\n",
    "plt.xticks(rotation=60,fontsize=12)  # Fixed rotation value\n",
    "plt.yticks(fontsize=12)\n",
    "plt.title('Trade Calls - Moving Averages Crossover', fontsize = 16)\n",
    "plt.legend(['Close','2_SMA','5_SMA'])\n",
    "plt.grid()\n",
    "plt.show() "
   ]
  },
  {
   "cell_type": "code",
   "execution_count": 4,
   "metadata": {},
   "outputs": [],
   "source": [
    "import requests \n",
    "# Define the endpoint\n",
    "url = 'https://newsapi.org/v2/everything?'\n",
    "\n",
    "# Specify the query and number of returns\n",
    "parameters = {\n",
    "    'q': 'AMD', # query phrase\n",
    "    'sortBy': 'popularity', # articles from popular sources and publishers come first\n",
    "    'pageSize': 100,  # maximum is 100 for developer version\n",
    "    'apiKey': 'b5609d2514664fdd8345d0c8f83267cb', # your own API key\n",
    "}\n",
    "\n",
    "# Make the request\n",
    "response = requests.get(url, params=parameters)\n",
    "\n",
    "# Convert the response to JSON format and store it in dataframe\n",
    "data = pd.DataFrame(response.json())\n",
    "\n",
    "news_df = pd.concat([data['articles'].apply(pd.Series)], axis=1)\n",
    "\n",
    "final_news = news_df.loc[:,['publishedAt','title']]\n",
    "final_news['publishedAt'] = pd.to_datetime(final_news['publishedAt'])\n",
    "final_news.sort_values(by='publishedAt',inplace=True)\n",
    "\n",
    "# Import BDay to determine business day's dates\n",
    "from pandas.tseries.offsets import BDay\n",
    "\n",
    "# to get the business day for which particular news headline should be used to make trade calls\n",
    "def get_trade_open(date):\n",
    "    curr_date_open = pd.to_datetime(date).floor('d').replace(hour=13,minute=30) - BDay(0)\n",
    "    curr_date_close = pd.to_datetime(date).floor('d').replace(hour=20,minute=0) - BDay(0)\n",
    "    \n",
    "    prev_date_close = (curr_date_open - BDay()).replace(hour=20,minute=0)\n",
    "    next_date_open = (curr_date_close + BDay()).replace(hour=13,minute=30)\n",
    "    \n",
    "    if ((pd.to_datetime(date)>=prev_date_close) & (pd.to_datetime(date)<curr_date_open)):\n",
    "        return curr_date_open\n",
    "    elif ((pd.to_datetime(date)>=curr_date_close) & (pd.to_datetime(date)<next_date_open)):\n",
    "        return next_date_open\n",
    "    else:\n",
    "        return None\n",
    "      \n",
    " # Apply the above function to get the trading time for each news headline\n",
    "final_news[\"trading_time\"] = final_news[\"publishedAt\"].apply(get_trade_open)\n",
    "\n",
    "final_news = final_news[pd.notnull(final_news['trading_time'])]\n",
    "final_news['Date'] = pd.to_datetime(pd.to_datetime(final_news['trading_time']).dt.date)"
   ]
  },
  {
   "cell_type": "code",
   "execution_count": null,
   "metadata": {},
   "outputs": [],
   "source": [
    "from vaderSentiment.vaderSentiment import SentimentIntensityAnalyzer\n",
    "\n",
    "# Sentiment analysis using VADER\n",
    "analyzer = SentimentIntensityAnalyzer()\n",
    "cs = []\n",
    "for row in range(len(final_news)):\n",
    "    cs.append(analyzer.polarity_scores(final_news['title'].iloc[row])['compound'])\n",
    "\n",
    "final_news['compound_vader_score'] = cs\n",
    "final_news = final_news[(final_news[['compound_vader_score']] != 0).all(axis=1)].reset_index(drop=True)\n",
    "\n",
    "final_news.head()\n",
    "\n",
    "\n"
   ]
  },
  {
   "cell_type": "code",
   "execution_count": 6,
   "metadata": {},
   "outputs": [],
   "source": [
    "unique_dates = final_news['Date'].unique()\n",
    "grouped_dates = final_news.groupby(['Date'])\n",
    "keys_dates = list(grouped_dates.groups.keys())\n",
    "\n",
    "max_cs = []\n",
    "min_cs = []\n",
    "\n",
    "for key in grouped_dates.groups.keys():\n",
    "    data = grouped_dates.get_group(key)\n",
    "    if data[\"compound_vader_score\"].max() > 0:\n",
    "        max_cs.append(data[\"compound_vader_score\"].max())\n",
    "    elif data[\"compound_vader_score\"].max() < 0:\n",
    "        max_cs.append(0)\n",
    "    \n",
    "    if data[\"compound_vader_score\"].min() < 0:\n",
    "        min_cs.append(data[\"compound_vader_score\"].min())\n",
    "    elif data[\"compound_vader_score\"].min() > 0:\n",
    "        min_cs.append(0)\n",
    "    \n",
    "extreme_scores_dict = {'Date':keys_dates,'max_scores':max_cs,'min_scores':min_cs}\n",
    "extreme_scores_df = pd.DataFrame(extreme_scores_dict)"
   ]
  },
  {
   "cell_type": "code",
   "execution_count": null,
   "metadata": {},
   "outputs": [],
   "source": [
    "final_scores = []\n",
    "for i in range(len(extreme_scores_df)):\n",
    "    final_scores.append(extreme_scores_df['max_scores'].values[i] + extreme_scores_df['min_scores'].values[i])\n",
    "\n",
    "extreme_scores_df['final_scores'] = final_scores\n",
    "\n",
    "extreme_scores_df.head()"
   ]
  },
  {
   "cell_type": "code",
   "execution_count": null,
   "metadata": {},
   "outputs": [],
   "source": [
    "vader_Buy=[]\n",
    "vader_Sell=[]\n",
    "for i in range(len(extreme_scores_df)):\n",
    "    if extreme_scores_df['final_scores'].values[i] > 0.20:\n",
    "        print(\"Trade Call for {row} is Buy.\".format(row=extreme_scores_df['Date'].iloc[i].date()))\n",
    "        vader_Buy.append(extreme_scores_df['Date'].iloc[i].date())\n",
    "    elif extreme_scores_df['final_scores'].values[i] < -0.20:\n",
    "        print(\"Trade Call for {row} is Sell.\".format(row=extreme_scores_df['Date'].iloc[i].date()))\n",
    "        vader_Sell.append(extreme_scores_df['Date'].iloc[i].date())"
   ]
  },
  {
   "cell_type": "code",
   "execution_count": null,
   "metadata": {},
   "outputs": [],
   "source": [
    "vader_buy = []\n",
    "for i in range(len(data_amd)):\n",
    "    if data_amd.index[i].date() in vader_Buy:\n",
    "        vader_buy.append(i)\n",
    "        \n",
    "vader_sell = []\n",
    "for i in range(len(data_amd)):\n",
    "    if data_amd.index[i].date() in vader_Sell:\n",
    "        vader_sell.append(i)\n",
    "        \n",
    "plt.figure(figsize=(20, 10),dpi=80)\n",
    "plt.plot(data_amd.index, data_amd['Close'],'-^', markevery=vader_buy, ms=15, color='green')\n",
    "plt.plot(data_amd.index, data_amd['Close'],'-v', markevery=vader_sell, ms=15, color='red')\n",
    "plt.plot(data_amd.index, data_amd['Close'])\n",
    "plt.xlabel('Date',fontsize=14)\n",
    "plt.ylabel('Price in Dollars', fontsize = 14)\n",
    "plt.xticks(rotation='60',fontsize=12)\n",
    "plt.yticks(fontsize=12)\n",
    "plt.title('Trade Calls - VADER', fontsize = 16)\n",
    "plt.legend(['Buy','Sell','Close'])\n",
    "plt.grid()\n",
    "plt.show() "
   ]
  },
  {
   "cell_type": "code",
   "execution_count": null,
   "metadata": {},
   "outputs": [],
   "source": [
    "#prioritising SMA signals\n",
    "final_buy = list(set(Trade_Buy + vader_buy) - set(Trade_Sell)) \n",
    "final_sell = list(set(Trade_Sell + vader_sell) - set(Trade_Buy))\n",
    "\n",
    "plt.figure(figsize=(20, 10),dpi=80)\n",
    "plt.plot(data_amd.index, data_amd['2_SMA'], color='blue')\n",
    "plt.plot(data_amd.index, data_amd['5_SMA'], color='orange')\n",
    "plt.plot(data_amd.index, data_amd['Close'],'-^', markevery=final_buy, ms=15, color='green')\n",
    "plt.plot(data_amd.index, data_amd['Close'],'-v', markevery=final_sell, ms=15, color='red')\n",
    "plt.plot(data_amd.index, data_amd['Close'])\n",
    "plt.xlabel('Date',fontsize=14)\n",
    "plt.ylabel('Price in Dollars', fontsize = 14)\n",
    "plt.xticks(rotation=60,fontsize=12)\n",
    "plt.yticks(fontsize=12)\n",
    "plt.title('Trade Calls - MERGED', fontsize = 16)\n",
    "plt.legend(['2_SMA','5_SMA','Buy','Sell','Close'])\n",
    "plt.grid()\n",
    "plt.show()"
   ]
  },
  {
   "cell_type": "markdown",
   "metadata": {},
   "source": [
    "Price crossing SMA is often used to trigger trading signals. When prices cross above the SMA, you might want to go long or cover short; when they cross below the SMA, you might want to go short or exit long.\n",
    "\n",
    "SMA Crossing SMA is another common trading signal. When a short period SMA crosses above a long period SMA, you may want to go long. You may want to go short when the short-term SMA crosses back below the long-term SMA."
   ]
  }
 ],
 "metadata": {
  "kernelspec": {
   "display_name": "base",
   "language": "python",
   "name": "python3"
  },
  "language_info": {
   "codemirror_mode": {
    "name": "ipython",
    "version": 3
   },
   "file_extension": ".py",
   "mimetype": "text/x-python",
   "name": "python",
   "nbconvert_exporter": "python",
   "pygments_lexer": "ipython3",
   "version": "3.9.12"
  }
 },
 "nbformat": 4,
 "nbformat_minor": 2
}
